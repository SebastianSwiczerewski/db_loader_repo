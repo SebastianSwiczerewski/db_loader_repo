{
 "cells": [
  {
   "cell_type": "code",
   "execution_count": null,
   "metadata": {},
   "outputs": [],
   "source": [
    "import pandas as pd"
   ]
  },
  {
   "cell_type": "code",
   "execution_count": null,
   "metadata": {},
   "outputs": [],
   "source": [
    "df = pd.read_csv(\n",
    "    'data/retail_db/orders/part-00000',\n",
    "    names=['order_id', 'order_date', 'order_customer_id', 'order_status']\n",
    ")"
   ]
  },
  {
   "cell_type": "code",
   "execution_count": null,
   "metadata": {},
   "outputs": [],
   "source": [
    "df.shape"
   ]
  },
  {
   "cell_type": "code",
   "execution_count": null,
   "metadata": {},
   "outputs": [],
   "source": [
    "conn_uri = 'postgresql://{db_user}:{db_pass}@{db_host}:{db_port}/{db_name}'"
   ]
  },
  {
   "cell_type": "code",
   "execution_count": null,
   "metadata": {},
   "outputs": [],
   "source": [
    "df.to_sql(\n",
    "    'orders',\n",
    "    conn_uri,\n",
    "    if_exists='append',\n",
    "    index=False\n",
    ")"
   ]
  },
  {
   "cell_type": "code",
   "execution_count": null,
   "metadata": {},
   "outputs": [],
   "source": [
    "df.to_sql(\n",
    "    'orders',\n",
    "    conn_uri,\n",
    "    if_exists='append',\n",
    "    index=False,\n",
    "    chunksize=10000\n",
    ")"
   ]
  },
  {
   "cell_type": "code",
   "execution_count": null,
   "metadata": {},
   "outputs": [],
   "source": [
    "type(df)"
   ]
  },
  {
   "cell_type": "code",
   "execution_count": null,
   "metadata": {},
   "outputs": [],
   "source": [
    "df_reader = pd.read_csv(\n",
    "    'data/retail_db/orders/part-00000',\n",
    "    names=['order_id', 'order_date', 'order_customer_id', 'order_status'],\n",
    "    chunksize=10000\n",
    ")"
   ]
  },
  {
   "cell_type": "code",
   "execution_count": null,
   "metadata": {},
   "outputs": [],
   "source": [
    "type(df_reader)"
   ]
  },
  {
   "cell_type": "code",
   "execution_count": null,
   "metadata": {},
   "outputs": [],
   "source": [
    "df_reader.chunksize"
   ]
  },
  {
   "cell_type": "code",
   "execution_count": null,
   "metadata": {},
   "outputs": [],
   "source": [
    "for df in df_reader:\n",
    "    print(f'{df.shape}')"
   ]
  },
  {
   "cell_type": "code",
   "execution_count": 1,
   "metadata": {},
   "outputs": [],
   "source": [
    "from main import process_files"
   ]
  },
  {
   "cell_type": "code",
   "execution_count": 2,
   "metadata": {},
   "outputs": [
    {
     "name": "stdout",
     "output_type": "stream",
     "text": [
      "Processing categories\n",
      "Processing departments\n",
      "Populating chunk 0 of departments\n",
      "Populating chunk 0 of categories\n",
      "Processing orders\n",
      "Populating chunk 0 of orders\n",
      "Data Processing of departments is completed\n",
      "Processing products\n",
      "Data Processing of categories is completed\n",
      "Processing customers\n",
      "Populating chunk 0 of products\n",
      "Populating chunk 0 of customers\n",
      "Data Processing of products is completed\n",
      "Processing order_items\n",
      "Populating chunk 0 of order_items\n",
      "Populating chunk 1 of orders\n",
      "Populating chunk 1 of order_items\n",
      "Populating chunk 2 of orders\n",
      "Populating chunk 1 of customers\n",
      "Data Processing of customers is completed\n",
      "Populating chunk 3 of orders\n",
      "Populating chunk 2 of order_items\n",
      "Populating chunk 4 of orders\n",
      "Populating chunk 5 of orders\n",
      "Populating chunk 3 of order_items\n",
      "Populating chunk 6 of orders\n",
      "Populating chunk 4 of order_items\n",
      "Data Processing of orders is completed\n",
      "Populating chunk 5 of order_items\n",
      "Populating chunk 6 of order_items\n",
      "Populating chunk 7 of order_items\n",
      "Populating chunk 8 of order_items\n",
      "Populating chunk 9 of order_items\n",
      "Populating chunk 10 of order_items\n",
      "Populating chunk 11 of order_items\n",
      "Populating chunk 12 of order_items\n",
      "Populating chunk 13 of order_items\n",
      "Populating chunk 14 of order_items\n",
      "Populating chunk 15 of order_items\n",
      "Populating chunk 16 of order_items\n",
      "Populating chunk 17 of order_items\n",
      "Data Processing of order_items is completed\n"
     ]
    }
   ],
   "source": [
    "process_files()"
   ]
  },
  {
   "cell_type": "code",
   "execution_count": null,
   "metadata": {},
   "outputs": [],
   "source": []
  }
 ],
 "metadata": {
  "kernelspec": {
   "display_name": "fdl-venv",
   "language": "python",
   "name": "python3"
  },
  "language_info": {
   "codemirror_mode": {
    "name": "ipython",
    "version": 3
   },
   "file_extension": ".py",
   "mimetype": "text/x-python",
   "name": "python",
   "nbconvert_exporter": "python",
   "pygments_lexer": "ipython3",
   "version": "3.13.1"
  }
 },
 "nbformat": 4,
 "nbformat_minor": 2
}
